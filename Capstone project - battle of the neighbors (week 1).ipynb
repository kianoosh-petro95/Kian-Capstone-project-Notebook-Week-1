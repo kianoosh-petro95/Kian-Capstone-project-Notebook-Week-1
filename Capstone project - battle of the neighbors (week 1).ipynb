{
 "cells": [
  {
   "cell_type": "markdown",
   "metadata": {},
   "source": [
    "# Capstone Project - The Battle of Neighborhoods (week 1)"
   ]
  },
  {
   "cell_type": "markdown",
   "metadata": {},
   "source": [
    "## Description of the problem:"
   ]
  },
  {
   "cell_type": "markdown",
   "metadata": {},
   "source": [
    "Denmark is a Scandinavian country located in the north of Europe and is known as one of the big leading nations toward green mobility and the reduction of fossil fuel consumption. Using bikes is one of the most common movements toward a green community in Denmark. In fact, nearly [60%](https://en.wikipedia.org/wiki/Cycling_in_Copenhagen#cite_note-Bicycle_Account-4) of Danish people use bike for their daily needs [1] Here I have provided some of the main reasons I assume that have made bikes very useful in Denmark:\n",
    "- The geographic condition of Denmark as a country that does not have high variation of altitude has made it a good spot for bike lovers. \n",
    "- In other words, having no hills and ups and downs in the streets make it very easy for different age range of people to use their bike for their daily commuting route to their school, work and etc. \n",
    "- The high taxes of the fuel and rather expensive prices for public transportations, have turned bikes very valuable means of transportation for people"
   ]
  },
  {
   "cell_type": "markdown",
   "metadata": {},
   "source": [
    "## Now whats the problem/issue?"
   ]
  },
  {
   "cell_type": "markdown",
   "metadata": {},
   "source": [
    "Despite the fact that using bikes is very common in Denmark, the bike services are not very reasonable. This means there are either not enough  spots that you can have your bikes fixed, or the prices are very expensive."
   ]
  },
  {
   "cell_type": "markdown",
   "metadata": {},
   "source": [
    "## Let's dig into the problem :\n"
   ]
  },
  {
   "cell_type": "markdown",
   "metadata": {},
   "source": [
    "Based on DTU website, there are currently [12894](http://dtu-studiedatavarehus.ait.dtu.dk/vis_noegletal_bestand.aspx?aar=2020&ret=0&udd=0&kon=0&alder=0&nt=0&vd=0&land=0&region=&kv=0&eks=) active students studying in the technical university of Denmark (DTU) [2], which is one of the most famous engineering universities in the Europe with the QS world University ranking of [103](https://www.dtu.dk/Om-DTU/Tal-og-analyser/Ranking/QS-World-University-Rankings) [3]\n",
    "When it comes to students, financial aspects become one of the most crucial points. However, there are two issues I have faced as a student in DTU:\n",
    "1. There is high price of bike services(it can be around [300](https://www.fribikeshop.dk/service) dkk for a normal service) [4]\n",
    "2. There are not sufficient service points around DTU\n",
    "3. There is a time limit\n",
    "\n",
    "For me, the third one was very important. Imagine you are stuck somewhere in a cold day at the middle of the night, but you face a flat tire. Some areas are not covered by the public transport after some hours of the day (for example after 8 pm), imagine you face an issue in your bike. what can you do?? :)"
   ]
  },
  {
   "cell_type": "markdown",
   "metadata": {},
   "source": [
    "## What I am suggesting:"
   ]
  },
  {
   "cell_type": "markdown",
   "metadata": {},
   "source": [
    "As a person who has lived in Denmark I totally understand that the reason for high service peices in Denmark is due to the high salaries and in general high service fees, but how can we do something that both students (usually low income compared with normal people) and service providers (expecting reasonable income) have benefit?\n",
    "My suggestion is:\n",
    "\n",
    "1. having low peices means lower profit, but in a community of nearly 13000 people (students of DTU), even a profit of one cent can be very big\n",
    "2. Providing remote services. Many of us have seen small vending machines in the metro stations and so on, that provide some small services like drinks, chips and so on. why not having the same thing for bike services? \n",
    "3. DTU has different sections inside the campus that provides tools such as wrench, keys and so on(24h), so, just providing a vending machine that has some very basic things such as lights, tubes, tires, and so on can be amazingly handy for emergency situations\n",
    "4. despite a normal vending machine that requires cooling systems, normal bike facilities can be exempt of that, so no specific design would be required"
   ]
  },
  {
   "cell_type": "markdown",
   "metadata": {},
   "source": [
    "## How to use data analysis to fix this issue"
   ]
  },
  {
   "cell_type": "markdown",
   "metadata": {},
   "source": [
    "The best usage of data is to find the best spot for placing a bike repair shop or as stated earlier, setting a vending machine to sell the necessary emergency things required for having a self service repair for the community of people using bikes around DTU. The topics that can be covered are:\n",
    "\n",
    "- Finding the population of people living in the vicinity of DTU\n",
    "- showing the best spots that can be spotted easier for people (around stations, DTU labs, bike shelters, etc), so you can do the repair in a relax area (no wind, rain, snow, etc)\n",
    "- Showing the profit of giving discounts, outside of working hour services, etc, to attract costumers\n",
    "\n"
   ]
  },
  {
   "cell_type": "markdown",
   "metadata": {},
   "source": [
    "## The Data that can be used:"
   ]
  },
  {
   "cell_type": "markdown",
   "metadata": {},
   "source": [
    "- Importing the map of Denmark, showing the location of DTU on the map\n",
    "- Showing the neighborhoods (postal codes) that are covered around the university, so those can be benefited also \n",
    "- Showing the population of each region as per postal code data\n",
    "- Showing the size/area of each reagion, which helps alot in this project as we do not have the sub region postal data. Therfore, a better understanding of the data we are working with can be provided with this technique"
   ]
  },
  {
   "cell_type": "markdown",
   "metadata": {},
   "source": [
    "# The detailed explanation of using each data point for this project has been illustrated in the next report (week 2)"
   ]
  },
  {
   "cell_type": "code",
   "execution_count": null,
   "metadata": {},
   "outputs": [],
   "source": []
  },
  {
   "cell_type": "code",
   "execution_count": null,
   "metadata": {},
   "outputs": [],
   "source": []
  },
  {
   "cell_type": "code",
   "execution_count": null,
   "metadata": {},
   "outputs": [],
   "source": []
  },
  {
   "cell_type": "code",
   "execution_count": null,
   "metadata": {},
   "outputs": [],
   "source": []
  },
  {
   "cell_type": "code",
   "execution_count": null,
   "metadata": {},
   "outputs": [],
   "source": []
  },
  {
   "cell_type": "code",
   "execution_count": null,
   "metadata": {},
   "outputs": [],
   "source": []
  }
 ],
 "metadata": {
  "kernelspec": {
   "display_name": "Python 3",
   "language": "python",
   "name": "python3"
  },
  "language_info": {
   "codemirror_mode": {
    "name": "ipython",
    "version": 3
   },
   "file_extension": ".py",
   "mimetype": "text/x-python",
   "name": "python",
   "nbconvert_exporter": "python",
   "pygments_lexer": "ipython3",
   "version": "3.8.3"
  }
 },
 "nbformat": 4,
 "nbformat_minor": 4
}
